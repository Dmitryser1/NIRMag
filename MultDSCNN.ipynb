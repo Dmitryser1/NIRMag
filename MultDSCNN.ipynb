{
 "cells": [
  {
   "cell_type": "code",
   "execution_count": 7,
   "metadata": {},
   "outputs": [
    {
     "name": "stdout",
     "output_type": "stream",
     "text": [
      "Обработка датасета: DataSet_b_15\n",
      "Found 10480 images belonging to 8 classes.\n",
      "Found 2624 images belonging to 8 classes.\n",
      "Found 1456 images belonging to 8 classes.\n",
      "Epoch 1/10\n",
      "\u001b[1m328/328\u001b[0m \u001b[32m━━━━━━━━━━━━━━━━━━━━\u001b[0m\u001b[37m\u001b[0m \u001b[1m116s\u001b[0m 351ms/step - accuracy: 0.4406 - loss: 1.5309 - val_accuracy: 0.9120 - val_loss: 0.2844\n",
      "Epoch 2/10\n",
      "\u001b[1m328/328\u001b[0m \u001b[32m━━━━━━━━━━━━━━━━━━━━\u001b[0m\u001b[37m\u001b[0m \u001b[1m44s\u001b[0m 133ms/step - accuracy: 0.9237 - loss: 0.2638 - val_accuracy: 0.9546 - val_loss: 0.1584\n",
      "Epoch 3/10\n",
      "\u001b[1m328/328\u001b[0m \u001b[32m━━━━━━━━━━━━━━━━━━━━\u001b[0m\u001b[37m\u001b[0m \u001b[1m38s\u001b[0m 116ms/step - accuracy: 0.9601 - loss: 0.1319 - val_accuracy: 0.9619 - val_loss: 0.1243\n",
      "Epoch 4/10\n",
      "\u001b[1m328/328\u001b[0m \u001b[32m━━━━━━━━━━━━━━━━━━━━\u001b[0m\u001b[37m\u001b[0m \u001b[1m43s\u001b[0m 130ms/step - accuracy: 0.9784 - loss: 0.0770 - val_accuracy: 0.9802 - val_loss: 0.0684\n",
      "Epoch 5/10\n",
      "\u001b[1m328/328\u001b[0m \u001b[32m━━━━━━━━━━━━━━━━━━━━\u001b[0m\u001b[37m\u001b[0m \u001b[1m44s\u001b[0m 134ms/step - accuracy: 0.9878 - loss: 0.0415 - val_accuracy: 0.9737 - val_loss: 0.0850\n",
      "Epoch 6/10\n",
      "\u001b[1m328/328\u001b[0m \u001b[32m━━━━━━━━━━━━━━━━━━━━\u001b[0m\u001b[37m\u001b[0m \u001b[1m42s\u001b[0m 128ms/step - accuracy: 0.9923 - loss: 0.0263 - val_accuracy: 0.9817 - val_loss: 0.0589\n",
      "Epoch 7/10\n",
      "\u001b[1m328/328\u001b[0m \u001b[32m━━━━━━━━━━━━━━━━━━━━\u001b[0m\u001b[37m\u001b[0m \u001b[1m38s\u001b[0m 116ms/step - accuracy: 0.9946 - loss: 0.0192 - val_accuracy: 0.9897 - val_loss: 0.0401\n",
      "Epoch 8/10\n",
      "\u001b[1m328/328\u001b[0m \u001b[32m━━━━━━━━━━━━━━━━━━━━\u001b[0m\u001b[37m\u001b[0m \u001b[1m38s\u001b[0m 116ms/step - accuracy: 0.9961 - loss: 0.0148 - val_accuracy: 0.9821 - val_loss: 0.0529\n",
      "Epoch 9/10\n",
      "\u001b[1m328/328\u001b[0m \u001b[32m━━━━━━━━━━━━━━━━━━━━\u001b[0m\u001b[37m\u001b[0m \u001b[1m42s\u001b[0m 127ms/step - accuracy: 0.9969 - loss: 0.0115 - val_accuracy: 0.9859 - val_loss: 0.0375\n",
      "Epoch 10/10\n",
      "\u001b[1m328/328\u001b[0m \u001b[32m━━━━━━━━━━━━━━━━━━━━\u001b[0m\u001b[37m\u001b[0m \u001b[1m39s\u001b[0m 120ms/step - accuracy: 0.9978 - loss: 0.0069 - val_accuracy: 0.9802 - val_loss: 0.0575\n"
     ]
    },
    {
     "name": "stderr",
     "output_type": "stream",
     "text": [
      "WARNING:absl:You are saving your model as an HDF5 file via `model.save()` or `keras.saving.save_model(model)`. This file format is considered legacy. We recommend using instead the native Keras format, e.g. `model.save('my_model.keras')` or `keras.saving.save_model(model, 'my_model.keras')`. \n"
     ]
    },
    {
     "name": "stdout",
     "output_type": "stream",
     "text": [
      "\u001b[1m46/46\u001b[0m \u001b[32m━━━━━━━━━━━━━━━━━━━━\u001b[0m\u001b[37m\u001b[0m \u001b[1m9s\u001b[0m 194ms/step - accuracy: 0.9669 - loss: 0.1039\n",
      "DataSet_b_15 - Test Accuracy: 0.9828296899795532\n",
      "\u001b[1m46/46\u001b[0m \u001b[32m━━━━━━━━━━━━━━━━━━━━\u001b[0m\u001b[37m\u001b[0m \u001b[1m2s\u001b[0m 32ms/step\n",
      "Завершена обработка DataSet_b_15\n",
      "\n",
      "Обработка датасета: DataSet_b_20\n",
      "Found 10480 images belonging to 8 classes.\n",
      "Found 2624 images belonging to 8 classes.\n",
      "Found 1456 images belonging to 8 classes.\n"
     ]
    },
    {
     "name": "stderr",
     "output_type": "stream",
     "text": [
      "C:\\Users\\dmitr\\AppData\\Local\\Packages\\PythonSoftwareFoundation.Python.3.11_qbz5n2kfra8p0\\LocalCache\\local-packages\\Python311\\site-packages\\keras\\src\\layers\\convolutional\\base_conv.py:107: UserWarning: Do not pass an `input_shape`/`input_dim` argument to a layer. When using Sequential models, prefer using an `Input(shape)` object as the first layer in the model instead.\n",
      "  super().__init__(activity_regularizer=activity_regularizer, **kwargs)\n",
      "C:\\Users\\dmitr\\AppData\\Local\\Packages\\PythonSoftwareFoundation.Python.3.11_qbz5n2kfra8p0\\LocalCache\\local-packages\\Python311\\site-packages\\keras\\src\\trainers\\data_adapters\\py_dataset_adapter.py:121: UserWarning: Your `PyDataset` class should call `super().__init__(**kwargs)` in its constructor. `**kwargs` can include `workers`, `use_multiprocessing`, `max_queue_size`. Do not pass these arguments to `fit()`, as they will be ignored.\n",
      "  self._warn_if_super_not_called()\n"
     ]
    },
    {
     "name": "stdout",
     "output_type": "stream",
     "text": [
      "Epoch 1/10\n",
      "\u001b[1m328/328\u001b[0m \u001b[32m━━━━━━━━━━━━━━━━━━━━\u001b[0m\u001b[37m\u001b[0m \u001b[1m110s\u001b[0m 331ms/step - accuracy: 0.4704 - loss: 1.4395 - val_accuracy: 0.9139 - val_loss: 0.2867\n",
      "Epoch 2/10\n",
      "\u001b[1m328/328\u001b[0m \u001b[32m━━━━━━━━━━━━━━━━━━━━\u001b[0m\u001b[37m\u001b[0m \u001b[1m39s\u001b[0m 118ms/step - accuracy: 0.9248 - loss: 0.2437 - val_accuracy: 0.9459 - val_loss: 0.1730\n",
      "Epoch 3/10\n",
      "\u001b[1m328/328\u001b[0m \u001b[32m━━━━━━━━━━━━━━━━━━━━\u001b[0m\u001b[37m\u001b[0m \u001b[1m38s\u001b[0m 117ms/step - accuracy: 0.9591 - loss: 0.1369 - val_accuracy: 0.9672 - val_loss: 0.1026\n",
      "Epoch 4/10\n",
      "\u001b[1m328/328\u001b[0m \u001b[32m━━━━━━━━━━━━━━━━━━━━\u001b[0m\u001b[37m\u001b[0m \u001b[1m37s\u001b[0m 114ms/step - accuracy: 0.9713 - loss: 0.0865 - val_accuracy: 0.9756 - val_loss: 0.0852\n",
      "Epoch 5/10\n",
      "\u001b[1m328/328\u001b[0m \u001b[32m━━━━━━━━━━━━━━━━━━━━\u001b[0m\u001b[37m\u001b[0m \u001b[1m39s\u001b[0m 119ms/step - accuracy: 0.9864 - loss: 0.0474 - val_accuracy: 0.9874 - val_loss: 0.0475\n",
      "Epoch 6/10\n",
      "\u001b[1m328/328\u001b[0m \u001b[32m━━━━━━━━━━━━━━━━━━━━\u001b[0m\u001b[37m\u001b[0m \u001b[1m38s\u001b[0m 116ms/step - accuracy: 0.9923 - loss: 0.0294 - val_accuracy: 0.9623 - val_loss: 0.1022\n",
      "Epoch 7/10\n",
      "\u001b[1m328/328\u001b[0m \u001b[32m━━━━━━━━━━━━━━━━━━━━\u001b[0m\u001b[37m\u001b[0m \u001b[1m39s\u001b[0m 119ms/step - accuracy: 0.9906 - loss: 0.0285 - val_accuracy: 0.9916 - val_loss: 0.0378\n",
      "Epoch 8/10\n",
      "\u001b[1m328/328\u001b[0m \u001b[32m━━━━━━━━━━━━━━━━━━━━\u001b[0m\u001b[37m\u001b[0m \u001b[1m38s\u001b[0m 116ms/step - accuracy: 0.9981 - loss: 0.0107 - val_accuracy: 0.9806 - val_loss: 0.0532\n",
      "Epoch 9/10\n",
      "\u001b[1m328/328\u001b[0m \u001b[32m━━━━━━━━━━━━━━━━━━━━\u001b[0m\u001b[37m\u001b[0m \u001b[1m41s\u001b[0m 123ms/step - accuracy: 0.9982 - loss: 0.0082 - val_accuracy: 0.9840 - val_loss: 0.0384\n",
      "Epoch 10/10\n",
      "\u001b[1m328/328\u001b[0m \u001b[32m━━━━━━━━━━━━━━━━━━━━\u001b[0m\u001b[37m\u001b[0m \u001b[1m40s\u001b[0m 121ms/step - accuracy: 0.9961 - loss: 0.0125 - val_accuracy: 0.9897 - val_loss: 0.0365\n"
     ]
    },
    {
     "name": "stderr",
     "output_type": "stream",
     "text": [
      "WARNING:absl:You are saving your model as an HDF5 file via `model.save()` or `keras.saving.save_model(model)`. This file format is considered legacy. We recommend using instead the native Keras format, e.g. `model.save('my_model.keras')` or `keras.saving.save_model(model, 'my_model.keras')`. \n"
     ]
    },
    {
     "name": "stdout",
     "output_type": "stream",
     "text": [
      "\u001b[1m46/46\u001b[0m \u001b[32m━━━━━━━━━━━━━━━━━━━━\u001b[0m\u001b[37m\u001b[0m \u001b[1m8s\u001b[0m 186ms/step - accuracy: 0.9808 - loss: 0.0577\n",
      "DataSet_b_20 - Test Accuracy: 0.9855769276618958\n",
      "\u001b[1m46/46\u001b[0m \u001b[32m━━━━━━━━━━━━━━━━━━━━\u001b[0m\u001b[37m\u001b[0m \u001b[1m1s\u001b[0m 29ms/step\n",
      "Завершена обработка DataSet_b_20\n",
      "\n",
      "Обработка датасета: DataSet_b_25\n",
      "Found 10480 images belonging to 8 classes.\n",
      "Found 2624 images belonging to 8 classes.\n",
      "Found 1456 images belonging to 8 classes.\n"
     ]
    },
    {
     "name": "stderr",
     "output_type": "stream",
     "text": [
      "C:\\Users\\dmitr\\AppData\\Local\\Packages\\PythonSoftwareFoundation.Python.3.11_qbz5n2kfra8p0\\LocalCache\\local-packages\\Python311\\site-packages\\keras\\src\\layers\\convolutional\\base_conv.py:107: UserWarning: Do not pass an `input_shape`/`input_dim` argument to a layer. When using Sequential models, prefer using an `Input(shape)` object as the first layer in the model instead.\n",
      "  super().__init__(activity_regularizer=activity_regularizer, **kwargs)\n",
      "C:\\Users\\dmitr\\AppData\\Local\\Packages\\PythonSoftwareFoundation.Python.3.11_qbz5n2kfra8p0\\LocalCache\\local-packages\\Python311\\site-packages\\keras\\src\\trainers\\data_adapters\\py_dataset_adapter.py:121: UserWarning: Your `PyDataset` class should call `super().__init__(**kwargs)` in its constructor. `**kwargs` can include `workers`, `use_multiprocessing`, `max_queue_size`. Do not pass these arguments to `fit()`, as they will be ignored.\n",
      "  self._warn_if_super_not_called()\n"
     ]
    },
    {
     "name": "stdout",
     "output_type": "stream",
     "text": [
      "Epoch 1/10\n",
      "\u001b[1m328/328\u001b[0m \u001b[32m━━━━━━━━━━━━━━━━━━━━\u001b[0m\u001b[37m\u001b[0m \u001b[1m96s\u001b[0m 291ms/step - accuracy: 0.4421 - loss: 1.5227 - val_accuracy: 0.9169 - val_loss: 0.2617\n",
      "Epoch 2/10\n",
      "\u001b[1m328/328\u001b[0m \u001b[32m━━━━━━━━━━━━━━━━━━━━\u001b[0m\u001b[37m\u001b[0m \u001b[1m38s\u001b[0m 116ms/step - accuracy: 0.9342 - loss: 0.2258 - val_accuracy: 0.9325 - val_loss: 0.1773\n",
      "Epoch 3/10\n",
      "\u001b[1m328/328\u001b[0m \u001b[32m━━━━━━━━━━━━━━━━━━━━\u001b[0m\u001b[37m\u001b[0m \u001b[1m37s\u001b[0m 112ms/step - accuracy: 0.9596 - loss: 0.1297 - val_accuracy: 0.9691 - val_loss: 0.1038\n",
      "Epoch 4/10\n",
      "\u001b[1m328/328\u001b[0m \u001b[32m━━━━━━━━━━━━━━━━━━━━\u001b[0m\u001b[37m\u001b[0m \u001b[1m38s\u001b[0m 116ms/step - accuracy: 0.9799 - loss: 0.0726 - val_accuracy: 0.9627 - val_loss: 0.1178\n",
      "Epoch 5/10\n",
      "\u001b[1m328/328\u001b[0m \u001b[32m━━━━━━━━━━━━━━━━━━━━\u001b[0m\u001b[37m\u001b[0m \u001b[1m39s\u001b[0m 120ms/step - accuracy: 0.9901 - loss: 0.0416 - val_accuracy: 0.9729 - val_loss: 0.0821\n",
      "Epoch 6/10\n",
      "\u001b[1m328/328\u001b[0m \u001b[32m━━━━━━━━━━━━━━━━━━━━\u001b[0m\u001b[37m\u001b[0m \u001b[1m38s\u001b[0m 115ms/step - accuracy: 0.9941 - loss: 0.0272 - val_accuracy: 0.9867 - val_loss: 0.0406\n",
      "Epoch 7/10\n",
      "\u001b[1m328/328\u001b[0m \u001b[32m━━━━━━━━━━━━━━━━━━━━\u001b[0m\u001b[37m\u001b[0m \u001b[1m40s\u001b[0m 122ms/step - accuracy: 0.9983 - loss: 0.0114 - val_accuracy: 0.9905 - val_loss: 0.0292\n",
      "Epoch 8/10\n",
      "\u001b[1m328/328\u001b[0m \u001b[32m━━━━━━━━━━━━━━━━━━━━\u001b[0m\u001b[37m\u001b[0m \u001b[1m41s\u001b[0m 124ms/step - accuracy: 0.9967 - loss: 0.0143 - val_accuracy: 0.9916 - val_loss: 0.0265\n",
      "Epoch 9/10\n",
      "\u001b[1m328/328\u001b[0m \u001b[32m━━━━━━━━━━━━━━━━━━━━\u001b[0m\u001b[37m\u001b[0m \u001b[1m39s\u001b[0m 118ms/step - accuracy: 0.9970 - loss: 0.0118 - val_accuracy: 0.9924 - val_loss: 0.0267\n",
      "Epoch 10/10\n",
      "\u001b[1m328/328\u001b[0m \u001b[32m━━━━━━━━━━━━━━━━━━━━\u001b[0m\u001b[37m\u001b[0m \u001b[1m41s\u001b[0m 125ms/step - accuracy: 0.9975 - loss: 0.0107 - val_accuracy: 0.9924 - val_loss: 0.0210\n"
     ]
    },
    {
     "name": "stderr",
     "output_type": "stream",
     "text": [
      "WARNING:absl:You are saving your model as an HDF5 file via `model.save()` or `keras.saving.save_model(model)`. This file format is considered legacy. We recommend using instead the native Keras format, e.g. `model.save('my_model.keras')` or `keras.saving.save_model(model, 'my_model.keras')`. \n"
     ]
    },
    {
     "name": "stdout",
     "output_type": "stream",
     "text": [
      "\u001b[1m46/46\u001b[0m \u001b[32m━━━━━━━━━━━━━━━━━━━━\u001b[0m\u001b[37m\u001b[0m \u001b[1m9s\u001b[0m 195ms/step - accuracy: 0.9905 - loss: 0.0451\n",
      "DataSet_b_25 - Test Accuracy: 0.9938187003135681\n",
      "\u001b[1m46/46\u001b[0m \u001b[32m━━━━━━━━━━━━━━━━━━━━\u001b[0m\u001b[37m\u001b[0m \u001b[1m2s\u001b[0m 32ms/step\n",
      "Завершена обработка DataSet_b_25\n",
      "\n",
      "Обработка датасета: DataSet_s_b_15\n",
      "Found 10480 images belonging to 8 classes.\n",
      "Found 2624 images belonging to 8 classes.\n",
      "Found 1456 images belonging to 8 classes.\n"
     ]
    },
    {
     "name": "stderr",
     "output_type": "stream",
     "text": [
      "C:\\Users\\dmitr\\AppData\\Local\\Packages\\PythonSoftwareFoundation.Python.3.11_qbz5n2kfra8p0\\LocalCache\\local-packages\\Python311\\site-packages\\keras\\src\\layers\\convolutional\\base_conv.py:107: UserWarning: Do not pass an `input_shape`/`input_dim` argument to a layer. When using Sequential models, prefer using an `Input(shape)` object as the first layer in the model instead.\n",
      "  super().__init__(activity_regularizer=activity_regularizer, **kwargs)\n",
      "C:\\Users\\dmitr\\AppData\\Local\\Packages\\PythonSoftwareFoundation.Python.3.11_qbz5n2kfra8p0\\LocalCache\\local-packages\\Python311\\site-packages\\keras\\src\\trainers\\data_adapters\\py_dataset_adapter.py:121: UserWarning: Your `PyDataset` class should call `super().__init__(**kwargs)` in its constructor. `**kwargs` can include `workers`, `use_multiprocessing`, `max_queue_size`. Do not pass these arguments to `fit()`, as they will be ignored.\n",
      "  self._warn_if_super_not_called()\n"
     ]
    },
    {
     "name": "stdout",
     "output_type": "stream",
     "text": [
      "Epoch 1/10\n",
      "\u001b[1m328/328\u001b[0m \u001b[32m━━━━━━━━━━━━━━━━━━━━\u001b[0m\u001b[37m\u001b[0m \u001b[1m104s\u001b[0m 315ms/step - accuracy: 0.3098 - loss: 1.7905 - val_accuracy: 0.8632 - val_loss: 0.4560\n",
      "Epoch 2/10\n",
      "\u001b[1m328/328\u001b[0m \u001b[32m━━━━━━━━━━━━━━━━━━━━\u001b[0m\u001b[37m\u001b[0m \u001b[1m41s\u001b[0m 126ms/step - accuracy: 0.8828 - loss: 0.3998 - val_accuracy: 0.9146 - val_loss: 0.2556\n",
      "Epoch 3/10\n",
      "\u001b[1m328/328\u001b[0m \u001b[32m━━━━━━━━━━━━━━━━━━━━\u001b[0m\u001b[37m\u001b[0m \u001b[1m42s\u001b[0m 128ms/step - accuracy: 0.9292 - loss: 0.2278 - val_accuracy: 0.9268 - val_loss: 0.2164\n",
      "Epoch 4/10\n",
      "\u001b[1m328/328\u001b[0m \u001b[32m━━━━━━━━━━━━━━━━━━━━\u001b[0m\u001b[37m\u001b[0m \u001b[1m39s\u001b[0m 118ms/step - accuracy: 0.9536 - loss: 0.1473 - val_accuracy: 0.9314 - val_loss: 0.2134\n",
      "Epoch 5/10\n",
      "\u001b[1m328/328\u001b[0m \u001b[32m━━━━━━━━━━━━━━━━━━━━\u001b[0m\u001b[37m\u001b[0m \u001b[1m39s\u001b[0m 117ms/step - accuracy: 0.9660 - loss: 0.1137 - val_accuracy: 0.9345 - val_loss: 0.1950\n",
      "Epoch 6/10\n",
      "\u001b[1m328/328\u001b[0m \u001b[32m━━━━━━━━━━━━━━━━━━━━\u001b[0m\u001b[37m\u001b[0m \u001b[1m38s\u001b[0m 116ms/step - accuracy: 0.9754 - loss: 0.0819 - val_accuracy: 0.9325 - val_loss: 0.1993\n",
      "Epoch 7/10\n",
      "\u001b[1m328/328\u001b[0m \u001b[32m━━━━━━━━━━━━━━━━━━━━\u001b[0m\u001b[37m\u001b[0m \u001b[1m38s\u001b[0m 116ms/step - accuracy: 0.9780 - loss: 0.0667 - val_accuracy: 0.9466 - val_loss: 0.1720\n",
      "Epoch 8/10\n",
      "\u001b[1m328/328\u001b[0m \u001b[32m━━━━━━━━━━━━━━━━━━━━\u001b[0m\u001b[37m\u001b[0m \u001b[1m40s\u001b[0m 121ms/step - accuracy: 0.9849 - loss: 0.0488 - val_accuracy: 0.9295 - val_loss: 0.2373\n",
      "Epoch 9/10\n",
      "\u001b[1m328/328\u001b[0m \u001b[32m━━━━━━━━━━━━━━━━━━━━\u001b[0m\u001b[37m\u001b[0m \u001b[1m38s\u001b[0m 115ms/step - accuracy: 0.9832 - loss: 0.0524 - val_accuracy: 0.9375 - val_loss: 0.2095\n",
      "Epoch 10/10\n",
      "\u001b[1m328/328\u001b[0m \u001b[32m━━━━━━━━━━━━━━━━━━━━\u001b[0m\u001b[37m\u001b[0m \u001b[1m38s\u001b[0m 116ms/step - accuracy: 0.9820 - loss: 0.0517 - val_accuracy: 0.9287 - val_loss: 0.2991\n"
     ]
    },
    {
     "name": "stderr",
     "output_type": "stream",
     "text": [
      "WARNING:absl:You are saving your model as an HDF5 file via `model.save()` or `keras.saving.save_model(model)`. This file format is considered legacy. We recommend using instead the native Keras format, e.g. `model.save('my_model.keras')` or `keras.saving.save_model(model, 'my_model.keras')`. \n"
     ]
    },
    {
     "name": "stdout",
     "output_type": "stream",
     "text": [
      "\u001b[1m46/46\u001b[0m \u001b[32m━━━━━━━━━━━━━━━━━━━━\u001b[0m\u001b[37m\u001b[0m \u001b[1m9s\u001b[0m 191ms/step - accuracy: 0.9320 - loss: 0.2762\n",
      "DataSet_s_b_15 - Test Accuracy: 0.9320054650306702\n",
      "\u001b[1m46/46\u001b[0m \u001b[32m━━━━━━━━━━━━━━━━━━━━\u001b[0m\u001b[37m\u001b[0m \u001b[1m1s\u001b[0m 30ms/step\n",
      "Завершена обработка DataSet_s_b_15\n",
      "\n",
      "Обработка датасета: DataSet_s_b_20\n",
      "Found 10480 images belonging to 8 classes.\n",
      "Found 2624 images belonging to 8 classes.\n",
      "Found 1456 images belonging to 8 classes.\n"
     ]
    },
    {
     "name": "stderr",
     "output_type": "stream",
     "text": [
      "C:\\Users\\dmitr\\AppData\\Local\\Packages\\PythonSoftwareFoundation.Python.3.11_qbz5n2kfra8p0\\LocalCache\\local-packages\\Python311\\site-packages\\keras\\src\\layers\\convolutional\\base_conv.py:107: UserWarning: Do not pass an `input_shape`/`input_dim` argument to a layer. When using Sequential models, prefer using an `Input(shape)` object as the first layer in the model instead.\n",
      "  super().__init__(activity_regularizer=activity_regularizer, **kwargs)\n",
      "C:\\Users\\dmitr\\AppData\\Local\\Packages\\PythonSoftwareFoundation.Python.3.11_qbz5n2kfra8p0\\LocalCache\\local-packages\\Python311\\site-packages\\keras\\src\\trainers\\data_adapters\\py_dataset_adapter.py:121: UserWarning: Your `PyDataset` class should call `super().__init__(**kwargs)` in its constructor. `**kwargs` can include `workers`, `use_multiprocessing`, `max_queue_size`. Do not pass these arguments to `fit()`, as they will be ignored.\n",
      "  self._warn_if_super_not_called()\n"
     ]
    },
    {
     "name": "stdout",
     "output_type": "stream",
     "text": [
      "Epoch 1/10\n",
      "\u001b[1m328/328\u001b[0m \u001b[32m━━━━━━━━━━━━━━━━━━━━\u001b[0m\u001b[37m\u001b[0m \u001b[1m104s\u001b[0m 315ms/step - accuracy: 0.2821 - loss: 1.8792 - val_accuracy: 0.8598 - val_loss: 0.4320\n",
      "Epoch 2/10\n",
      "\u001b[1m328/328\u001b[0m \u001b[32m━━━━━━━━━━━━━━━━━━━━\u001b[0m\u001b[37m\u001b[0m \u001b[1m38s\u001b[0m 116ms/step - accuracy: 0.8557 - loss: 0.4366 - val_accuracy: 0.9139 - val_loss: 0.2691\n",
      "Epoch 3/10\n",
      "\u001b[1m328/328\u001b[0m \u001b[32m━━━━━━━━━━━━━━━━━━━━\u001b[0m\u001b[37m\u001b[0m \u001b[1m35s\u001b[0m 106ms/step - accuracy: 0.9136 - loss: 0.2611 - val_accuracy: 0.9451 - val_loss: 0.1761\n",
      "Epoch 4/10\n",
      "\u001b[1m328/328\u001b[0m \u001b[32m━━━━━━━━━━━━━━━━━━━━\u001b[0m\u001b[37m\u001b[0m \u001b[1m35s\u001b[0m 106ms/step - accuracy: 0.9360 - loss: 0.2010 - val_accuracy: 0.9348 - val_loss: 0.2004\n",
      "Epoch 5/10\n",
      "\u001b[1m328/328\u001b[0m \u001b[32m━━━━━━━━━━━━━━━━━━━━\u001b[0m\u001b[37m\u001b[0m \u001b[1m35s\u001b[0m 105ms/step - accuracy: 0.9487 - loss: 0.1593 - val_accuracy: 0.9493 - val_loss: 0.1580\n",
      "Epoch 6/10\n",
      "\u001b[1m328/328\u001b[0m \u001b[32m━━━━━━━━━━━━━━━━━━━━\u001b[0m\u001b[37m\u001b[0m \u001b[1m35s\u001b[0m 105ms/step - accuracy: 0.9604 - loss: 0.1273 - val_accuracy: 0.9630 - val_loss: 0.1134\n",
      "Epoch 7/10\n",
      "\u001b[1m328/328\u001b[0m \u001b[32m━━━━━━━━━━━━━━━━━━━━\u001b[0m\u001b[37m\u001b[0m \u001b[1m35s\u001b[0m 106ms/step - accuracy: 0.9673 - loss: 0.0954 - val_accuracy: 0.9512 - val_loss: 0.1262\n",
      "Epoch 8/10\n",
      "\u001b[1m328/328\u001b[0m \u001b[32m━━━━━━━━━━━━━━━━━━━━\u001b[0m\u001b[37m\u001b[0m \u001b[1m35s\u001b[0m 105ms/step - accuracy: 0.9747 - loss: 0.0793 - val_accuracy: 0.9638 - val_loss: 0.1046\n",
      "Epoch 9/10\n",
      "\u001b[1m328/328\u001b[0m \u001b[32m━━━━━━━━━━━━━━━━━━━━\u001b[0m\u001b[37m\u001b[0m \u001b[1m35s\u001b[0m 105ms/step - accuracy: 0.9782 - loss: 0.0700 - val_accuracy: 0.9604 - val_loss: 0.1036\n",
      "Epoch 10/10\n",
      "\u001b[1m328/328\u001b[0m \u001b[32m━━━━━━━━━━━━━━━━━━━━\u001b[0m\u001b[37m\u001b[0m \u001b[1m35s\u001b[0m 106ms/step - accuracy: 0.9806 - loss: 0.0615 - val_accuracy: 0.9657 - val_loss: 0.1024\n"
     ]
    },
    {
     "name": "stderr",
     "output_type": "stream",
     "text": [
      "WARNING:absl:You are saving your model as an HDF5 file via `model.save()` or `keras.saving.save_model(model)`. This file format is considered legacy. We recommend using instead the native Keras format, e.g. `model.save('my_model.keras')` or `keras.saving.save_model(model, 'my_model.keras')`. \n"
     ]
    },
    {
     "name": "stdout",
     "output_type": "stream",
     "text": [
      "\u001b[1m46/46\u001b[0m \u001b[32m━━━━━━━━━━━━━━━━━━━━\u001b[0m\u001b[37m\u001b[0m \u001b[1m8s\u001b[0m 178ms/step - accuracy: 0.9584 - loss: 0.1475\n",
      "DataSet_s_b_20 - Test Accuracy: 0.9711538553237915\n",
      "\u001b[1m46/46\u001b[0m \u001b[32m━━━━━━━━━━━━━━━━━━━━\u001b[0m\u001b[37m\u001b[0m \u001b[1m1s\u001b[0m 27ms/step\n",
      "Завершена обработка DataSet_s_b_20\n",
      "\n",
      "Обработка датасета: DataSet_s_b_25\n",
      "Found 10480 images belonging to 8 classes.\n",
      "Found 2624 images belonging to 8 classes.\n",
      "Found 1456 images belonging to 8 classes.\n"
     ]
    },
    {
     "name": "stderr",
     "output_type": "stream",
     "text": [
      "C:\\Users\\dmitr\\AppData\\Local\\Packages\\PythonSoftwareFoundation.Python.3.11_qbz5n2kfra8p0\\LocalCache\\local-packages\\Python311\\site-packages\\keras\\src\\layers\\convolutional\\base_conv.py:107: UserWarning: Do not pass an `input_shape`/`input_dim` argument to a layer. When using Sequential models, prefer using an `Input(shape)` object as the first layer in the model instead.\n",
      "  super().__init__(activity_regularizer=activity_regularizer, **kwargs)\n",
      "C:\\Users\\dmitr\\AppData\\Local\\Packages\\PythonSoftwareFoundation.Python.3.11_qbz5n2kfra8p0\\LocalCache\\local-packages\\Python311\\site-packages\\keras\\src\\trainers\\data_adapters\\py_dataset_adapter.py:121: UserWarning: Your `PyDataset` class should call `super().__init__(**kwargs)` in its constructor. `**kwargs` can include `workers`, `use_multiprocessing`, `max_queue_size`. Do not pass these arguments to `fit()`, as they will be ignored.\n",
      "  self._warn_if_super_not_called()\n"
     ]
    },
    {
     "name": "stdout",
     "output_type": "stream",
     "text": [
      "Epoch 1/10\n",
      "\u001b[1m328/328\u001b[0m \u001b[32m━━━━━━━━━━━━━━━━━━━━\u001b[0m\u001b[37m\u001b[0m \u001b[1m100s\u001b[0m 302ms/step - accuracy: 0.3058 - loss: 1.8137 - val_accuracy: 0.8563 - val_loss: 0.4659\n",
      "Epoch 2/10\n",
      "\u001b[1m328/328\u001b[0m \u001b[32m━━━━━━━━━━━━━━━━━━━━\u001b[0m\u001b[37m\u001b[0m \u001b[1m40s\u001b[0m 121ms/step - accuracy: 0.8643 - loss: 0.4495 - val_accuracy: 0.8899 - val_loss: 0.3275\n",
      "Epoch 3/10\n",
      "\u001b[1m328/328\u001b[0m \u001b[32m━━━━━━━━━━━━━━━━━━━━\u001b[0m\u001b[37m\u001b[0m \u001b[1m40s\u001b[0m 121ms/step - accuracy: 0.9200 - loss: 0.2688 - val_accuracy: 0.8887 - val_loss: 0.3457\n",
      "Epoch 4/10\n",
      "\u001b[1m328/328\u001b[0m \u001b[32m━━━━━━━━━━━━━━━━━━━━\u001b[0m\u001b[37m\u001b[0m \u001b[1m36s\u001b[0m 110ms/step - accuracy: 0.9277 - loss: 0.2278 - val_accuracy: 0.9066 - val_loss: 0.2699\n",
      "Epoch 5/10\n",
      "\u001b[1m328/328\u001b[0m \u001b[32m━━━━━━━━━━━━━━━━━━━━\u001b[0m\u001b[37m\u001b[0m \u001b[1m36s\u001b[0m 110ms/step - accuracy: 0.9401 - loss: 0.1814 - val_accuracy: 0.9356 - val_loss: 0.2022\n",
      "Epoch 6/10\n",
      "\u001b[1m328/328\u001b[0m \u001b[32m━━━━━━━━━━━━━━━━━━━━\u001b[0m\u001b[37m\u001b[0m \u001b[1m37s\u001b[0m 113ms/step - accuracy: 0.9510 - loss: 0.1528 - val_accuracy: 0.9386 - val_loss: 0.1771\n",
      "Epoch 7/10\n",
      "\u001b[1m328/328\u001b[0m \u001b[32m━━━━━━━━━━━━━━━━━━━━\u001b[0m\u001b[37m\u001b[0m \u001b[1m36s\u001b[0m 109ms/step - accuracy: 0.9510 - loss: 0.1467 - val_accuracy: 0.9505 - val_loss: 0.1465\n",
      "Epoch 8/10\n",
      "\u001b[1m328/328\u001b[0m \u001b[32m━━━━━━━━━━━━━━━━━━━━\u001b[0m\u001b[37m\u001b[0m \u001b[1m38s\u001b[0m 117ms/step - accuracy: 0.9617 - loss: 0.1160 - val_accuracy: 0.9489 - val_loss: 0.1441\n",
      "Epoch 9/10\n",
      "\u001b[1m328/328\u001b[0m \u001b[32m━━━━━━━━━━━━━━━━━━━━\u001b[0m\u001b[37m\u001b[0m \u001b[1m40s\u001b[0m 123ms/step - accuracy: 0.9647 - loss: 0.1080 - val_accuracy: 0.9600 - val_loss: 0.1248\n",
      "Epoch 10/10\n",
      "\u001b[1m328/328\u001b[0m \u001b[32m━━━━━━━━━━━━━━━━━━━━\u001b[0m\u001b[37m\u001b[0m \u001b[1m42s\u001b[0m 128ms/step - accuracy: 0.9674 - loss: 0.0993 - val_accuracy: 0.9360 - val_loss: 0.2153\n"
     ]
    },
    {
     "name": "stderr",
     "output_type": "stream",
     "text": [
      "WARNING:absl:You are saving your model as an HDF5 file via `model.save()` or `keras.saving.save_model(model)`. This file format is considered legacy. We recommend using instead the native Keras format, e.g. `model.save('my_model.keras')` or `keras.saving.save_model(model, 'my_model.keras')`. \n"
     ]
    },
    {
     "name": "stdout",
     "output_type": "stream",
     "text": [
      "\u001b[1m46/46\u001b[0m \u001b[32m━━━━━━━━━━━━━━━━━━━━\u001b[0m\u001b[37m\u001b[0m \u001b[1m9s\u001b[0m 200ms/step - accuracy: 0.9506 - loss: 0.1379\n",
      "DataSet_s_b_25 - Test Accuracy: 0.9375\n",
      "\u001b[1m46/46\u001b[0m \u001b[32m━━━━━━━━━━━━━━━━━━━━\u001b[0m\u001b[37m\u001b[0m \u001b[1m1s\u001b[0m 29ms/step\n",
      "Завершена обработка DataSet_s_b_25\n",
      "\n"
     ]
    }
   ],
   "source": [
    "import os\n",
    "import shutil\n",
    "from sklearn.model_selection import train_test_split\n",
    "from tensorflow.keras.preprocessing.image import ImageDataGenerator\n",
    "from tensorflow.keras.models import Sequential\n",
    "from tensorflow.keras.layers import Conv2D, MaxPooling2D, Flatten, Dense\n",
    "import tensorflow as tf\n",
    "import matplotlib.pyplot as plt\n",
    "from sklearn.metrics import confusion_matrix, classification_report\n",
    "import numpy as np\n",
    "import seaborn as sns\n",
    "\n",
    "# Список директорий с наборами данных\n",
    "dataset_dirs = ['DataSet_b_15', 'DataSet_b_20', 'DataSet_b_25', 'DataSet_s_b_15', 'DataSet_s_b_20', 'DataSet_s_b_25']  # Список папок с разными наборами данных\n",
    "\n",
    "# Функция для разделения данных на тренировочную, валидационную и тестовую выборки\n",
    "def split_data(dataset_dir, classes, validation_split=0.2, test_split=0.1):\n",
    "    train_dir = os.path.join(dataset_dir, 'train')\n",
    "    validation_dir = os.path.join(dataset_dir, 'validation')\n",
    "    test_dir = os.path.join(dataset_dir, 'test')\n",
    "    \n",
    "    os.makedirs(train_dir, exist_ok=True)\n",
    "    os.makedirs(validation_dir, exist_ok=True)\n",
    "    os.makedirs(test_dir, exist_ok=True)\n",
    "    \n",
    "    for class_name in classes:\n",
    "        class_dir = os.path.join(dataset_dir, class_name)\n",
    "        \n",
    "        if not os.path.exists(class_dir):\n",
    "            print(f\"Ошибка: директория {class_dir} не найдена.\")\n",
    "            continue\n",
    "        \n",
    "        images = os.listdir(class_dir)\n",
    "        \n",
    "        if not images:\n",
    "            print(f\"Ошибка: директория {class_dir} пуста.\")\n",
    "            continue\n",
    "        \n",
    "        train_images, test_images = train_test_split(images, test_size=test_split, random_state=42)\n",
    "        train_images, val_images = train_test_split(train_images, test_size=validation_split, random_state=42)\n",
    "        \n",
    "        train_class_dir = os.path.join(train_dir, class_name)\n",
    "        validation_class_dir = os.path.join(validation_dir, class_name)\n",
    "        test_class_dir = os.path.join(test_dir, class_name)\n",
    "        \n",
    "        os.makedirs(train_class_dir, exist_ok=True)\n",
    "        os.makedirs(validation_class_dir, exist_ok=True)\n",
    "        os.makedirs(test_class_dir, exist_ok=True)\n",
    "        \n",
    "        for img in train_images:\n",
    "            shutil.copy(os.path.join(class_dir, img), os.path.join(train_class_dir, img))\n",
    "        for img in val_images:\n",
    "            shutil.copy(os.path.join(class_dir, img), os.path.join(validation_class_dir, img))\n",
    "        for img in test_images:\n",
    "            shutil.copy(os.path.join(class_dir, img), os.path.join(test_class_dir, img))\n",
    "\n",
    "# Основной процесс обучения\n",
    "for dataset_dir in dataset_dirs:\n",
    "    print(f\"Обработка датасета: {dataset_dir}\")\n",
    "    classes = ['class1', 'class2', 'class3', 'class4', 'class5', 'class6', 'class7', 'class8']\n",
    "    split_data(dataset_dir, classes)\n",
    "    \n",
    "    train_dir = os.path.join(dataset_dir, 'train')\n",
    "    validation_dir = os.path.join(dataset_dir, 'validation')\n",
    "    test_dir = os.path.join(dataset_dir, 'test')\n",
    "    \n",
    "    batch_size = 32\n",
    "    image_size = 128\n",
    "    \n",
    "    train_datagen = ImageDataGenerator(rescale=1./255)\n",
    "    val_datagen = ImageDataGenerator(rescale=1./255)\n",
    "    test_datagen = ImageDataGenerator(rescale=1./255)\n",
    "    \n",
    "    train_generator = train_datagen.flow_from_directory(train_dir, target_size=(image_size, image_size), batch_size=batch_size, class_mode='categorical')\n",
    "    validation_generator = val_datagen.flow_from_directory(validation_dir, target_size=(image_size, image_size), batch_size=batch_size, class_mode='categorical')\n",
    "    test_generator = test_datagen.flow_from_directory(test_dir, target_size=(image_size, image_size), batch_size=batch_size, class_mode='categorical', shuffle=False)\n",
    "    \n",
    "    model = Sequential([\n",
    "        Conv2D(32, (3, 3), activation='relu', input_shape=(image_size, image_size, 3)),\n",
    "        MaxPooling2D(pool_size=(2, 2)),\n",
    "        Conv2D(64, (3, 3), activation='relu'),\n",
    "        MaxPooling2D(pool_size=(2, 2)),\n",
    "        Flatten(),\n",
    "        Dense(128, activation='relu'),\n",
    "        Dense(len(classes), activation='softmax')\n",
    "    ])\n",
    "    \n",
    "    model.compile(optimizer='adam', loss='categorical_crossentropy', metrics=['accuracy'])\n",
    "    \n",
    "    history = model.fit(train_generator, validation_data=validation_generator, epochs=10)\n",
    "    \n",
    "    model.save(f'{dataset_dir}_model.h5')\n",
    "    \n",
    "    plt.plot(history.history['accuracy'], label='Training Accuracy')\n",
    "    plt.plot(history.history['val_accuracy'], label='Validation Accuracy')\n",
    "    plt.title(f'{dataset_dir} - Training and Validation Accuracy')\n",
    "    plt.xlabel('Epoch')\n",
    "    plt.ylabel('Accuracy')\n",
    "    plt.legend()\n",
    "    plt.savefig(f'{dataset_dir}_accuracy.png')\n",
    "    plt.close()\n",
    "    \n",
    "    plt.plot(history.history['loss'], label='Training Loss')\n",
    "    plt.plot(history.history['val_loss'], label='Validation Loss')\n",
    "    plt.title(f'{dataset_dir} - Training and Validation Loss')\n",
    "    plt.xlabel('Epoch')\n",
    "    plt.ylabel('Loss')\n",
    "    plt.legend()\n",
    "    plt.savefig(f'{dataset_dir}_loss.png')\n",
    "    plt.close()\n",
    "    \n",
    "    test_loss, test_accuracy = model.evaluate(test_generator)\n",
    "    print(f\"{dataset_dir} - Test Accuracy: {test_accuracy}\")\n",
    "    \n",
    "    y_pred = model.predict(test_generator)\n",
    "    y_pred_classes = np.argmax(y_pred, axis=1)\n",
    "    y_true = test_generator.classes\n",
    "    \n",
    "    cm = confusion_matrix(y_true, y_pred_classes)\n",
    "    \n",
    "    plt.figure(figsize=(8, 6))\n",
    "    sns.heatmap(cm, annot=True, fmt='d', cmap='Blues', xticklabels=classes, yticklabels=classes)\n",
    "    plt.title(f'{dataset_dir} - Confusion Matrix')\n",
    "    plt.xlabel('Predicted')\n",
    "    plt.ylabel('True')\n",
    "    plt.savefig(f'{dataset_dir}_confusion_matrix.png')\n",
    "    plt.close()\n",
    "    \n",
    "    with open(f'{dataset_dir}_classification_report.txt', 'w') as f:\n",
    "        f.write(classification_report(y_true, y_pred_classes, target_names=classes))\n",
    "    \n",
    "    print(f\"Завершена обработка {dataset_dir}\\n\")\n"
   ]
  }
 ],
 "metadata": {
  "kernelspec": {
   "display_name": "Python 3",
   "language": "python",
   "name": "python3"
  },
  "language_info": {
   "codemirror_mode": {
    "name": "ipython",
    "version": 3
   },
   "file_extension": ".py",
   "mimetype": "text/x-python",
   "name": "python",
   "nbconvert_exporter": "python",
   "pygments_lexer": "ipython3",
   "version": "3.11.9"
  }
 },
 "nbformat": 4,
 "nbformat_minor": 2
}
